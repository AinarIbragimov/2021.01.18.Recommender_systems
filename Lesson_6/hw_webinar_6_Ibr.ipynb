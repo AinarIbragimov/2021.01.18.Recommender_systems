{
 "cells": [
  {
   "cell_type": "markdown",
   "metadata": {},
   "source": [
    "# Вебинар 6. Двухуровневые модели рекомендаций\n"
   ]
  },
  {
   "cell_type": "markdown",
   "metadata": {},
   "source": [
    "Код для src, utils, metrics вы можете скачать из [этого](https://github.com/geangohn/recsys-tutorial) github репозитория"
   ]
  },
  {
   "cell_type": "code",
   "execution_count": 1,
   "metadata": {},
   "outputs": [],
   "source": [
    "import pandas as pd\n",
    "import numpy as np\n",
    "import matplotlib.pyplot as plt\n",
    "%matplotlib inline\n",
    "\n",
    "# Для работы с матрицами\n",
    "from scipy.sparse import csr_matrix\n",
    "\n",
    "# Матричная факторизация\n",
    "from implicit import als\n",
    "\n",
    "# Модель второго уровня\n",
    "from lightgbm import LGBMClassifier\n",
    "\n",
    "import os, sys\n",
    "module_path = os.path.abspath(os.path.join(os.pardir))\n",
    "if module_path not in sys.path:\n",
    "    sys.path.append(module_path)\n",
    "\n",
    "# Написанные нами функции\n",
    "from src.metrics import precision_at_k, recall_at_k\n",
    "from src.utils import prefilter_items\n",
    "from src.recommenders import MainRecommender"
   ]
  },
  {
   "cell_type": "code",
   "execution_count": 2,
   "metadata": {},
   "outputs": [
    {
     "data": {
      "text/html": [
       "<div>\n",
       "<style scoped>\n",
       "    .dataframe tbody tr th:only-of-type {\n",
       "        vertical-align: middle;\n",
       "    }\n",
       "\n",
       "    .dataframe tbody tr th {\n",
       "        vertical-align: top;\n",
       "    }\n",
       "\n",
       "    .dataframe thead th {\n",
       "        text-align: right;\n",
       "    }\n",
       "</style>\n",
       "<table border=\"1\" class=\"dataframe\">\n",
       "  <thead>\n",
       "    <tr style=\"text-align: right;\">\n",
       "      <th></th>\n",
       "      <th>user_id</th>\n",
       "      <th>basket_id</th>\n",
       "      <th>day</th>\n",
       "      <th>item_id</th>\n",
       "      <th>quantity</th>\n",
       "      <th>sales_value</th>\n",
       "      <th>store_id</th>\n",
       "      <th>retail_disc</th>\n",
       "      <th>trans_time</th>\n",
       "      <th>week_no</th>\n",
       "      <th>coupon_disc</th>\n",
       "      <th>coupon_match_disc</th>\n",
       "    </tr>\n",
       "  </thead>\n",
       "  <tbody>\n",
       "    <tr>\n",
       "      <th>0</th>\n",
       "      <td>2375</td>\n",
       "      <td>26984851472</td>\n",
       "      <td>1</td>\n",
       "      <td>1004906</td>\n",
       "      <td>1</td>\n",
       "      <td>1.39</td>\n",
       "      <td>364</td>\n",
       "      <td>-0.6</td>\n",
       "      <td>1631</td>\n",
       "      <td>1</td>\n",
       "      <td>0.0</td>\n",
       "      <td>0.0</td>\n",
       "    </tr>\n",
       "    <tr>\n",
       "      <th>1</th>\n",
       "      <td>2375</td>\n",
       "      <td>26984851472</td>\n",
       "      <td>1</td>\n",
       "      <td>1033142</td>\n",
       "      <td>1</td>\n",
       "      <td>0.82</td>\n",
       "      <td>364</td>\n",
       "      <td>0.0</td>\n",
       "      <td>1631</td>\n",
       "      <td>1</td>\n",
       "      <td>0.0</td>\n",
       "      <td>0.0</td>\n",
       "    </tr>\n",
       "  </tbody>\n",
       "</table>\n",
       "</div>"
      ],
      "text/plain": [
       "   user_id    basket_id  day  item_id  quantity  sales_value  store_id  \\\n",
       "0     2375  26984851472    1  1004906         1         1.39       364   \n",
       "1     2375  26984851472    1  1033142         1         0.82       364   \n",
       "\n",
       "   retail_disc  trans_time  week_no  coupon_disc  coupon_match_disc  \n",
       "0         -0.6        1631        1          0.0                0.0  \n",
       "1          0.0        1631        1          0.0                0.0  "
      ]
     },
     "execution_count": 2,
     "metadata": {},
     "output_type": "execute_result"
    }
   ],
   "source": [
    "data = pd.read_csv('retail_train.csv')\n",
    "item_features = pd.read_csv('product.csv')\n",
    "user_features = pd.read_csv('hh_demographic.csv')\n",
    "\n",
    "# column processing\n",
    "item_features.columns = [col.lower() for col in item_features.columns]\n",
    "user_features.columns = [col.lower() for col in user_features.columns]\n",
    "\n",
    "item_features.rename(columns={'product_id': 'item_id'}, inplace=True)\n",
    "user_features.rename(columns={'household_key': 'user_id'}, inplace=True)\n",
    "\n",
    "\n",
    "# Важна схема обучения и валидации!\n",
    "# -- давние покупки -- | -- 6 недель -- | -- 3 недель -- \n",
    "# подобрать размер 2-ого датасета (6 недель) --> learning curve (зависимость метрики recall@k от размера датасета)\n",
    "val_lvl_1_size_weeks = 6\n",
    "val_lvl_2_size_weeks = 3\n",
    "\n",
    "data_train_lvl_1 = data[data['week_no'] < data['week_no'].max() - (val_lvl_1_size_weeks + val_lvl_2_size_weeks)]\n",
    "data_val_lvl_1 = data[(data['week_no'] >= data['week_no'].max() - (val_lvl_1_size_weeks + val_lvl_2_size_weeks)) &\n",
    "                      (data['week_no'] < data['week_no'].max() - (val_lvl_2_size_weeks))]\n",
    "\n",
    "data_train_lvl_2 = data_val_lvl_1.copy()  # Для наглядности. Далее мы добавим изменения, и они будут отличаться\n",
    "data_val_lvl_2 = data[data['week_no'] >= data['week_no'].max() - val_lvl_2_size_weeks]\n",
    "\n",
    "data_train_lvl_1.head(2)"
   ]
  },
  {
   "cell_type": "code",
   "execution_count": 3,
   "metadata": {},
   "outputs": [
    {
     "name": "stdout",
     "output_type": "stream",
     "text": [
      "Decreased # items from 83685 to 5001\n"
     ]
    }
   ],
   "source": [
    "n_items_before = data_train_lvl_1['item_id'].nunique()\n",
    "\n",
    "data_train_lvl_1 = prefilter_items(data_train_lvl_1, item_features=item_features, take_n_popular=5000)\n",
    "\n",
    "n_items_after = data_train_lvl_1['item_id'].nunique()\n",
    "print('Decreased # items from {} to {}'.format(n_items_before, n_items_after))"
   ]
  },
  {
   "cell_type": "code",
   "execution_count": 4,
   "metadata": {},
   "outputs": [
    {
     "name": "stderr",
     "output_type": "stream",
     "text": [
      "WARNING:root:Intel MKL BLAS detected. Its highly recommend to set the environment variable 'export MKL_NUM_THREADS=1' to disable its internal multithreading\n"
     ]
    },
    {
     "data": {
      "application/vnd.jupyter.widget-view+json": {
       "model_id": "c6a390bae16b4921b75551dc5555c64f",
       "version_major": 2,
       "version_minor": 0
      },
      "text/plain": [
       "  0%|          | 0/15 [00:00<?, ?it/s]"
      ]
     },
     "metadata": {},
     "output_type": "display_data"
    },
    {
     "data": {
      "application/vnd.jupyter.widget-view+json": {
       "model_id": "5b089a654e284ef8ad0e876ebb6d8bf2",
       "version_major": 2,
       "version_minor": 0
      },
      "text/plain": [
       "  0%|          | 0/5001 [00:00<?, ?it/s]"
      ]
     },
     "metadata": {},
     "output_type": "display_data"
    }
   ],
   "source": [
    "recommender = MainRecommender(data_train_lvl_1)"
   ]
  },
  {
   "cell_type": "code",
   "execution_count": 5,
   "metadata": {},
   "outputs": [
    {
     "data": {
      "text/plain": [
       "[1044078,\n",
       " 899624,\n",
       " 871756,\n",
       " 844179,\n",
       " 1106523,\n",
       " 8090537,\n",
       " 5569230,\n",
       " 832678,\n",
       " 944534,\n",
       " 12301839,\n",
       " 1000753,\n",
       " 9836106,\n",
       " 883932,\n",
       " 12262978,\n",
       " 823704,\n",
       " 1046545,\n",
       " 865456,\n",
       " 1116376,\n",
       " 8090521,\n",
       " 1022428,\n",
       " 963727,\n",
       " 1004906,\n",
       " 999714,\n",
       " 888543,\n",
       " 854852,\n",
       " 9835223,\n",
       " 965766,\n",
       " 1092937,\n",
       " 850102,\n",
       " 1051323,\n",
       " 1081177,\n",
       " 925862,\n",
       " 1025535,\n",
       " 947858,\n",
       " 5585510,\n",
       " 823990,\n",
       " 1042942,\n",
       " 832442,\n",
       " 1004390,\n",
       " 1029743,\n",
       " 5569845,\n",
       " 1133312,\n",
       " 910032,\n",
       " 12757140,\n",
       " 841220,\n",
       " 12731544,\n",
       " 863447,\n",
       " 850925,\n",
       " 865528,\n",
       " 1086740,\n",
       " 999779,\n",
       " 990797,\n",
       " 895166,\n",
       " 861279,\n",
       " 5568378,\n",
       " 835530,\n",
       " 965267,\n",
       " 826666,\n",
       " 870547,\n",
       " 949965,\n",
       " 1134678,\n",
       " 1097458,\n",
       " 1068719,\n",
       " 12301100,\n",
       " 948650,\n",
       " 952163,\n",
       " 902172,\n",
       " 896862,\n",
       " 1003616,\n",
       " 896613,\n",
       " 1009770,\n",
       " 1131438,\n",
       " 8090539,\n",
       " 1100972,\n",
       " 835300,\n",
       " 12731432,\n",
       " 9832469,\n",
       " 986912,\n",
       " 1102879,\n",
       " 930283,\n",
       " 15926886,\n",
       " 831517,\n",
       " 1131344,\n",
       " 880150,\n",
       " 1096261,\n",
       " 841236,\n",
       " 999270,\n",
       " 1070702,\n",
       " 1059902,\n",
       " 828106,\n",
       " 12302069,\n",
       " 998239,\n",
       " 1068504,\n",
       " 1012587,\n",
       " 847790,\n",
       " 850139,\n",
       " 8065410,\n",
       " 874972,\n",
       " 1001702,\n",
       " 938138,\n",
       " 966348,\n",
       " 989069,\n",
       " 930666,\n",
       " 1035207,\n",
       " 1102207,\n",
       " 1036347,\n",
       " 9526410,\n",
       " 963971,\n",
       " 903609,\n",
       " 977658,\n",
       " 1116589,\n",
       " 1020581,\n",
       " 12731685,\n",
       " 1107420,\n",
       " 9836195,\n",
       " 1090931,\n",
       " 1037863,\n",
       " 937292,\n",
       " 12731517,\n",
       " 998556,\n",
       " 838186,\n",
       " 824180,\n",
       " 1042907,\n",
       " 1103691,\n",
       " 1022254,\n",
       " 952563,\n",
       " 8020001,\n",
       " 825343,\n",
       " 995896,\n",
       " 6534077,\n",
       " 866211,\n",
       " 1092176,\n",
       " 1096635,\n",
       " 1038663,\n",
       " 1072685,\n",
       " 9527184,\n",
       " 999858,\n",
       " 839818,\n",
       " 835618,\n",
       " 12301109,\n",
       " 1096573,\n",
       " 1080867,\n",
       " 6534480,\n",
       " 1132771,\n",
       " 890739,\n",
       " 8090509,\n",
       " 1017369,\n",
       " 845208,\n",
       " 939900,\n",
       " 904129,\n",
       " 12262778,\n",
       " 916122,\n",
       " 1042544,\n",
       " 1021324,\n",
       " 929768,\n",
       " 1138467,\n",
       " 1068292,\n",
       " 1092885,\n",
       " 1026984,\n",
       " 892503,\n",
       " 1000736,\n",
       " 866025,\n",
       " 913278,\n",
       " 837304,\n",
       " 1019247,\n",
       " 982790,\n",
       " 972143,\n",
       " 6534578,\n",
       " 1011861,\n",
       " 6463729,\n",
       " 973181,\n",
       " 1079067,\n",
       " 7025275,\n",
       " 852014,\n",
       " 933067,\n",
       " 831712,\n",
       " 980263,\n",
       " 12810393,\n",
       " 869322,\n",
       " 827919,\n",
       " 9245106,\n",
       " 829138,\n",
       " 12301405,\n",
       " 864048,\n",
       " 1051211,\n",
       " 1006878,\n",
       " 12731714,\n",
       " 1123842,\n",
       " 940766,\n",
       " 12810391,\n",
       " 1123146,\n",
       " 1122358,\n",
       " 1053282,\n",
       " 940023,\n",
       " 848029,\n",
       " 831728,\n",
       " 1051516,\n",
       " 9835606,\n",
       " 1053016,\n",
       " 1002850]"
      ]
     },
     "execution_count": 5,
     "metadata": {},
     "output_type": "execute_result"
    }
   ],
   "source": [
    "recommender.get_als_recommendations(2375, N=200)"
   ]
  },
  {
   "cell_type": "code",
   "execution_count": 6,
   "metadata": {},
   "outputs": [
    {
     "data": {
      "text/plain": [
       "[948640,\n",
       " 918046,\n",
       " 847962,\n",
       " 907099,\n",
       " 873980,\n",
       " 884694,\n",
       " 10285454,\n",
       " 1107760,\n",
       " 7169090,\n",
       " 979674,\n",
       " 10308345,\n",
       " 1069531,\n",
       " 974766,\n",
       " 1015474,\n",
       " 950935,\n",
       " 847066,\n",
       " 1102207,\n",
       " 1020770,\n",
       " 9521787,\n",
       " 974265,\n",
       " 940996,\n",
       " 8019845,\n",
       " 5567194,\n",
       " 12811490,\n",
       " 1003616,\n",
       " 973181,\n",
       " 890719,\n",
       " 982955,\n",
       " 9677152,\n",
       " 998519,\n",
       " 1072685,\n",
       " 1131382,\n",
       " 1021715,\n",
       " 12263119,\n",
       " 960791,\n",
       " 7441873,\n",
       " 986021,\n",
       " 956666,\n",
       " 1038692,\n",
       " 9677748,\n",
       " 9297223,\n",
       " 927030,\n",
       " 12757653,\n",
       " 1046919,\n",
       " 6391532,\n",
       " 989069,\n",
       " 1068451,\n",
       " 951954,\n",
       " 835300,\n",
       " 937343,\n",
       " 1047249,\n",
       " 13876348,\n",
       " 1061732,\n",
       " 981601,\n",
       " 1121028,\n",
       " 1087547,\n",
       " 828393,\n",
       " 996269,\n",
       " 951951,\n",
       " 1036093,\n",
       " 1023815,\n",
       " 5570408,\n",
       " 827667,\n",
       " 1082454,\n",
       " 1006878,\n",
       " 5570048,\n",
       " 841309,\n",
       " 1078652,\n",
       " 1115553,\n",
       " 1056492,\n",
       " 1138467,\n",
       " 1004945,\n",
       " 947858,\n",
       " 1092885,\n",
       " 1121694,\n",
       " 938138,\n",
       " 8019916,\n",
       " 827919,\n",
       " 984315,\n",
       " 10341855,\n",
       " 883932,\n",
       " 8291322,\n",
       " 1096794,\n",
       " 1028938,\n",
       " 1087618,\n",
       " 8020166,\n",
       " 1082185,\n",
       " 866871,\n",
       " 930666,\n",
       " 825994,\n",
       " 910151,\n",
       " 823990,\n",
       " 848029,\n",
       " 896613,\n",
       " 12301839,\n",
       " 1117219,\n",
       " 1135258,\n",
       " 869868,\n",
       " 1046545,\n",
       " 899624,\n",
       " 6442594,\n",
       " 1137775,\n",
       " 825343,\n",
       " 1042907,\n",
       " 828106,\n",
       " 9245106,\n",
       " 947412,\n",
       " 902172,\n",
       " 8065410,\n",
       " 6034857,\n",
       " 1043751,\n",
       " 863447,\n",
       " 823704,\n",
       " 908318,\n",
       " 1105488,\n",
       " 874972,\n",
       " 7024847,\n",
       " 1081177,\n",
       " 1044078,\n",
       " 878996,\n",
       " 5707857,\n",
       " 916122,\n",
       " 1029743,\n",
       " 1106523,\n",
       " 5569230,\n",
       " 916122,\n",
       " 844179,\n",
       " 1044078,\n",
       " 1126899,\n",
       " 1070820,\n",
       " 1127831,\n",
       " 866211,\n",
       " 8090521,\n",
       " 878996,\n",
       " 8090537,\n",
       " 5569471,\n",
       " 1004906,\n",
       " 854852,\n",
       " 899624,\n",
       " 986912,\n",
       " 933835,\n",
       " 1075368,\n",
       " 1081177,\n",
       " 6034857,\n",
       " 5585510,\n",
       " 965267,\n",
       " 834117,\n",
       " 940947,\n",
       " 983584,\n",
       " 12810393,\n",
       " 913210,\n",
       " 874972,\n",
       " 5569845,\n",
       " 5568378,\n",
       " 999858,\n",
       " 908318,\n",
       " 985999,\n",
       " 901062,\n",
       " 1040807,\n",
       " 1018740,\n",
       " 951412,\n",
       " 1101010,\n",
       " 1105488,\n",
       " 1037840,\n",
       " 880150,\n",
       " 1043751,\n",
       " 857503,\n",
       " 1122358,\n",
       " 1132771,\n",
       " 823704,\n",
       " 854405,\n",
       " 909714,\n",
       " 993638,\n",
       " 930118,\n",
       " 839419,\n",
       " 971922,\n",
       " 910032,\n",
       " 863447,\n",
       " 835098,\n",
       " 865456,\n",
       " 976199,\n",
       " 12301109,\n",
       " 1070702,\n",
       " 5569374,\n",
       " 8090532,\n",
       " 872137,\n",
       " 883003,\n",
       " 1023720,\n",
       " 1012587,\n",
       " 1000753,\n",
       " 893018,\n",
       " 1024306,\n",
       " 897954,\n",
       " 1042438,\n",
       " 907631,\n",
       " 5568729,\n",
       " 1068719,\n",
       " 1137775,\n",
       " 1087102,\n",
       " 944534]"
      ]
     },
     "execution_count": 6,
     "metadata": {},
     "output_type": "execute_result"
    }
   ],
   "source": [
    "recommender.get_own_recommendations(2375, N=200)"
   ]
  },
  {
   "cell_type": "code",
   "execution_count": 7,
   "metadata": {},
   "outputs": [
    {
     "data": {
      "text/plain": [
       "[1046545,\n",
       " 1044078,\n",
       " 1042907,\n",
       " 842125,\n",
       " 15778319,\n",
       " 893018,\n",
       " 1003616,\n",
       " 1079067,\n",
       " 885863,\n",
       " 9835223,\n",
       " 863447,\n",
       " 1023720,\n",
       " 906923,\n",
       " 871611,\n",
       " 999714,\n",
       " 919681,\n",
       " 828106,\n",
       " 1018740,\n",
       " 1021522,\n",
       " 965842,\n",
       " 1070702,\n",
       " 907099,\n",
       " 858373,\n",
       " 12301100,\n",
       " 899624,\n",
       " 1121028,\n",
       " 949742,\n",
       " 823721,\n",
       " 985999,\n",
       " 957411,\n",
       " 896862,\n",
       " 1068719,\n",
       " 1000753,\n",
       " 992826,\n",
       " 947678,\n",
       " 1048272,\n",
       " 918994,\n",
       " 825343,\n",
       " 1022428,\n",
       " 1133745,\n",
       " 1139493,\n",
       " 916122,\n",
       " 1042942,\n",
       " 1080354,\n",
       " 1088295,\n",
       " 1103105,\n",
       " 947201,\n",
       " 1119454,\n",
       " 8065410,\n",
       " 862799,\n",
       " 954651,\n",
       " 960732,\n",
       " 13008459,\n",
       " 12301839,\n",
       " 1116005,\n",
       " 1002771,\n",
       " 865456,\n",
       " 828106,\n",
       " 1016276,\n",
       " 1105488,\n",
       " 998444,\n",
       " 825343,\n",
       " 1120559,\n",
       " 1038998,\n",
       " 899459,\n",
       " 1073120,\n",
       " 8090537,\n",
       " 882247,\n",
       " 5568378,\n",
       " 948650,\n",
       " 823356,\n",
       " 12262778,\n",
       " 879922,\n",
       " 969941,\n",
       " 957411,\n",
       " 969945,\n",
       " 846502,\n",
       " 5591170,\n",
       " 891171,\n",
       " 8019649,\n",
       " 937292,\n",
       " 859426,\n",
       " 999858,\n",
       " 1120559,\n",
       " 8119318,\n",
       " 858999,\n",
       " 9677149,\n",
       " 1054262,\n",
       " 13777408,\n",
       " 902172,\n",
       " 896804,\n",
       " 1072523,\n",
       " 889759,\n",
       " 998444,\n",
       " 1048507,\n",
       " 954651,\n",
       " 845462,\n",
       " 937292,\n",
       " 1018740,\n",
       " 7410348,\n",
       " 10254193,\n",
       " 1087102,\n",
       " 12692332,\n",
       " 10285022,\n",
       " 1067695,\n",
       " 1131488,\n",
       " 999999,\n",
       " 1008547,\n",
       " 862318,\n",
       " 861279,\n",
       " 5569845,\n",
       " 12301100,\n",
       " 826666,\n",
       " 878996,\n",
       " 10149640,\n",
       " 6463826,\n",
       " 9677624,\n",
       " 866878,\n",
       " 845307,\n",
       " 998444,\n",
       " 1097849,\n",
       " 5568378,\n",
       " 957232,\n",
       " 1029743,\n",
       " 1106523,\n",
       " 5569230,\n",
       " 916122,\n",
       " 844179,\n",
       " 1044078,\n",
       " 1126899,\n",
       " 1070820,\n",
       " 1127831,\n",
       " 866211,\n",
       " 8090521,\n",
       " 878996,\n",
       " 8090537,\n",
       " 5569471,\n",
       " 1004906,\n",
       " 854852,\n",
       " 899624,\n",
       " 986912,\n",
       " 933835,\n",
       " 1075368,\n",
       " 1081177,\n",
       " 6034857,\n",
       " 5585510,\n",
       " 965267,\n",
       " 834117,\n",
       " 940947,\n",
       " 983584,\n",
       " 12810393,\n",
       " 913210,\n",
       " 874972,\n",
       " 5569845,\n",
       " 5568378,\n",
       " 999858,\n",
       " 908318,\n",
       " 985999,\n",
       " 901062,\n",
       " 1040807,\n",
       " 1018740,\n",
       " 951412,\n",
       " 1101010,\n",
       " 1105488,\n",
       " 1037840,\n",
       " 880150,\n",
       " 1043751,\n",
       " 857503,\n",
       " 1122358,\n",
       " 1132771,\n",
       " 823704,\n",
       " 854405,\n",
       " 909714,\n",
       " 993638,\n",
       " 930118,\n",
       " 839419,\n",
       " 971922,\n",
       " 910032,\n",
       " 863447,\n",
       " 835098,\n",
       " 865456,\n",
       " 976199,\n",
       " 12301109,\n",
       " 1070702,\n",
       " 5569374,\n",
       " 8090532,\n",
       " 872137,\n",
       " 883003,\n",
       " 1023720,\n",
       " 1012587,\n",
       " 1000753,\n",
       " 893018,\n",
       " 1024306,\n",
       " 897954,\n",
       " 1042438,\n",
       " 907631,\n",
       " 5568729,\n",
       " 1068719,\n",
       " 1137775,\n",
       " 1087102]"
      ]
     },
     "execution_count": 7,
     "metadata": {},
     "output_type": "execute_result"
    }
   ],
   "source": [
    "recommender.get_similar_items_recommendation(2375, N=200)"
   ]
  },
  {
   "cell_type": "code",
   "execution_count": 8,
   "metadata": {},
   "outputs": [
    {
     "data": {
      "text/plain": [
       "[974265,\n",
       " 1131625,\n",
       " 12523928,\n",
       " 959455,\n",
       " 945909,\n",
       " 950894,\n",
       " 820612,\n",
       " 1101502,\n",
       " 874563,\n",
       " 1124971,\n",
       " 918638,\n",
       " 10457044,\n",
       " 12427353,\n",
       " 6391089,\n",
       " 920025,\n",
       " 852015,\n",
       " 994577,\n",
       " 1012801,\n",
       " 917033,\n",
       " 1107760,\n",
       " 12523928,\n",
       " 935578,\n",
       " 979674,\n",
       " 979674,\n",
       " 1015539,\n",
       " 925863,\n",
       " 10149656,\n",
       " 1096573,\n",
       " 5572803,\n",
       " 1012801,\n",
       " 5568758,\n",
       " 1097398,\n",
       " 9245108,\n",
       " 963686,\n",
       " 963686,\n",
       " 9837092,\n",
       " 947412,\n",
       " 13002975,\n",
       " 875392,\n",
       " 1028422,\n",
       " 1129805,\n",
       " 873715,\n",
       " 1071196,\n",
       " 921406,\n",
       " 1082990,\n",
       " 879699,\n",
       " 1118120,\n",
       " 1026945,\n",
       " 12262832,\n",
       " 948225,\n",
       " 5568758,\n",
       " 5574377,\n",
       " 983665,\n",
       " 7409622,\n",
       " 894360,\n",
       " 837495,\n",
       " 965956,\n",
       " 13213202,\n",
       " 1010308,\n",
       " 5707857,\n",
       " 949257,\n",
       " 897671,\n",
       " 1058709,\n",
       " 896757,\n",
       " 920025,\n",
       " 892728,\n",
       " 1031316,\n",
       " 1098719,\n",
       " 10198378,\n",
       " 1068865,\n",
       " 959830,\n",
       " 825317,\n",
       " 995502,\n",
       " 902640,\n",
       " 847434,\n",
       " 1056212,\n",
       " 5707857,\n",
       " 9926758,\n",
       " 1030093,\n",
       " 911974,\n",
       " 5569309,\n",
       " 1118946,\n",
       " 8020166,\n",
       " 955921,\n",
       " 948239,\n",
       " 9553048,\n",
       " 1120190,\n",
       " 915493,\n",
       " 1042571,\n",
       " 1117219,\n",
       " 7168057,\n",
       " 1038745,\n",
       " 918046,\n",
       " 822970,\n",
       " 1057168,\n",
       " 1123045,\n",
       " 939860,\n",
       " 828489,\n",
       " 935578,\n",
       " 6979437,\n",
       " 6391557,\n",
       " 856215,\n",
       " 999189,\n",
       " 7152319,\n",
       " 1108168,\n",
       " 997025,\n",
       " 8090542,\n",
       " 1103513,\n",
       " 1065538,\n",
       " 915064,\n",
       " 977559,\n",
       " 830686,\n",
       " 890423,\n",
       " 916990,\n",
       " 841236,\n",
       " 868645,\n",
       " 957080,\n",
       " 1074040,\n",
       " 963686,\n",
       " 873044,\n",
       " 859987,\n",
       " 1123106,\n",
       " 5574377,\n",
       " 958023,\n",
       " 965772,\n",
       " 8090956,\n",
       " 920025,\n",
       " 881391,\n",
       " 830783,\n",
       " 1117602,\n",
       " 1132956,\n",
       " 833241,\n",
       " 6391137,\n",
       " 1056212,\n",
       " 1102003,\n",
       " 1120190,\n",
       " 930335,\n",
       " 9297574,\n",
       " 1057168,\n",
       " 1065259,\n",
       " 1116253,\n",
       " 1134296,\n",
       " 1036699,\n",
       " 9553335,\n",
       " 864893,\n",
       " 1026258,\n",
       " 1133850,\n",
       " 953539,\n",
       " 5569135,\n",
       " 877428,\n",
       " 977927,\n",
       " 1133654,\n",
       " 5707857,\n",
       " 12524016,\n",
       " 7410336,\n",
       " 832661,\n",
       " 951834,\n",
       " 820582,\n",
       " 12352054,\n",
       " 1093490,\n",
       " 902640,\n",
       " 12263857,\n",
       " 1027216,\n",
       " 8019902,\n",
       " 1116050,\n",
       " 10198378,\n",
       " 914245,\n",
       " 939789,\n",
       " 997025,\n",
       " 878715,\n",
       " 930009,\n",
       " 841365,\n",
       " 12731544,\n",
       " 927028,\n",
       " 8293439,\n",
       " 964221,\n",
       " 10341855,\n",
       " 865026,\n",
       " 997423,\n",
       " 875089,\n",
       " 1089986,\n",
       " 8090508,\n",
       " 850768,\n",
       " 924667,\n",
       " 971474,\n",
       " 1128477,\n",
       " 5569135,\n",
       " 6534229,\n",
       " 5586727,\n",
       " 979674,\n",
       " 1114653,\n",
       " 1065259,\n",
       " 10198378,\n",
       " 982469,\n",
       " 865718,\n",
       " 1112242,\n",
       " 834516,\n",
       " 9396822,\n",
       " 951188,\n",
       " 1092588]"
      ]
     },
     "execution_count": 8,
     "metadata": {},
     "output_type": "execute_result"
    }
   ],
   "source": [
    "recommender.get_similar_users_recommendation(2375, N=200)"
   ]
  },
  {
   "cell_type": "markdown",
   "metadata": {},
   "source": [
    "### Задание 1\n",
    "\n",
    "A) Попробуйте различные варианты генерации кандидатов. Какие из них дают наибольший recall@k ?\n",
    "- Пока пробуем отобрать 200 кандидатов (k=200)\n",
    "- Качество измеряем на data_val_lvl_1: следующие 6 недель после трейна\n",
    "\n",
    "Дают ли own recommendtions + top-popular лучший recall?  \n",
    "\n",
    "B)* Как зависит recall@k от k? Постройте для одной схемы генерации кандидатов эту зависимость для k = {20, 50, 100, 200, 500}  \n",
    "C)* Исходя из прошлого вопроса, как вы думаете, какое значение k является наиболее разумным?\n"
   ]
  },
  {
   "cell_type": "markdown",
   "metadata": {},
   "source": [
    "**Решение**"
   ]
  },
  {
   "cell_type": "code",
   "execution_count": 9,
   "metadata": {},
   "outputs": [],
   "source": [
    "pd.set_option('display.max_columns', None)"
   ]
  },
  {
   "cell_type": "markdown",
   "metadata": {},
   "source": [
    "Составим список июзеров на трейне"
   ]
  },
  {
   "cell_type": "code",
   "execution_count": 10,
   "metadata": {},
   "outputs": [],
   "source": [
    "train_users = data_train_lvl_1['user_id'].unique() "
   ]
  },
  {
   "cell_type": "code",
   "execution_count": 11,
   "metadata": {},
   "outputs": [
    {
     "data": {
      "text/plain": [
       "2495"
      ]
     },
     "execution_count": 11,
     "metadata": {},
     "output_type": "execute_result"
    }
   ],
   "source": [
    "train_users.shape[0]"
   ]
  },
  {
   "cell_type": "markdown",
   "metadata": {},
   "source": [
    "Начнем строить модель 1-го уровня"
   ]
  },
  {
   "cell_type": "code",
   "execution_count": 12,
   "metadata": {},
   "outputs": [
    {
     "data": {
      "text/html": [
       "<div>\n",
       "<style scoped>\n",
       "    .dataframe tbody tr th:only-of-type {\n",
       "        vertical-align: middle;\n",
       "    }\n",
       "\n",
       "    .dataframe tbody tr th {\n",
       "        vertical-align: top;\n",
       "    }\n",
       "\n",
       "    .dataframe thead th {\n",
       "        text-align: right;\n",
       "    }\n",
       "</style>\n",
       "<table border=\"1\" class=\"dataframe\">\n",
       "  <thead>\n",
       "    <tr style=\"text-align: right;\">\n",
       "      <th></th>\n",
       "      <th>user_id</th>\n",
       "      <th>actual</th>\n",
       "    </tr>\n",
       "  </thead>\n",
       "  <tbody>\n",
       "    <tr>\n",
       "      <th>2152</th>\n",
       "      <td>2499</td>\n",
       "      <td>[861282, 921744, 1050968, 13842089, 828837, 86...</td>\n",
       "    </tr>\n",
       "    <tr>\n",
       "      <th>2153</th>\n",
       "      <td>2500</td>\n",
       "      <td>[856455, 902192, 903476, 931672, 936634, 95170...</td>\n",
       "    </tr>\n",
       "  </tbody>\n",
       "</table>\n",
       "</div>"
      ],
      "text/plain": [
       "      user_id                                             actual\n",
       "2152     2499  [861282, 921744, 1050968, 13842089, 828837, 86...\n",
       "2153     2500  [856455, 902192, 903476, 931672, 936634, 95170..."
      ]
     },
     "execution_count": 12,
     "metadata": {},
     "output_type": "execute_result"
    }
   ],
   "source": [
    "lvl_1_model = data_val_lvl_1.groupby('user_id')['item_id'].unique().reset_index()\n",
    "lvl_1_model = lvl_1_model.loc[lvl_1_model.user_id.isin(train_users)]\n",
    "lvl_1_model.columns=['user_id', 'actual']\n",
    "lvl_1_model.tail(2)"
   ]
  },
  {
   "cell_type": "markdown",
   "metadata": {},
   "source": [
    "Посмотрим, какой результат даст similar_items_recommendation"
   ]
  },
  {
   "cell_type": "code",
   "execution_count": 13,
   "metadata": {},
   "outputs": [
    {
     "data": {
      "text/plain": [
       "0.08626815861564748"
      ]
     },
     "execution_count": 13,
     "metadata": {},
     "output_type": "execute_result"
    }
   ],
   "source": [
    "lvl_1_model['similar_item_recommendations'] = lvl_1_model['user_id'].apply(lambda x: \\\n",
    "                                                                           recommender.get_similar_items_recommendation(x, 200))\n",
    "lvl_1_model['similar_item_recall'] = lvl_1_model.apply(lambda row:recall_at_k(row['similar_item_recommendations'], \\\n",
    "                                                                              row['actual'], k=200), axis=1)\n",
    "lvl_1_model['similar_item_recall'].mean()"
   ]
  },
  {
   "cell_type": "markdown",
   "metadata": {},
   "source": [
    "Посмотрим, какой результат даст als_recommendations"
   ]
  },
  {
   "cell_type": "code",
   "execution_count": 14,
   "metadata": {},
   "outputs": [
    {
     "data": {
      "text/plain": [
       "0.09766980464458808"
      ]
     },
     "execution_count": 14,
     "metadata": {},
     "output_type": "execute_result"
    }
   ],
   "source": [
    "lvl_1_model['als_recommendations'] = lvl_1_model['user_id'].apply(lambda x: recommender.get_als_recommendations(x, 200))\n",
    "lvl_1_model['als_recall'] = lvl_1_model.apply(lambda row: recall_at_k(row['als_recommendations'], row['actual'], k=200), axis=1)\n",
    "lvl_1_model['als_recall'].mean()"
   ]
  },
  {
   "cell_type": "markdown",
   "metadata": {},
   "source": [
    "Посмотрим, какой результат даст own_recommendations"
   ]
  },
  {
   "cell_type": "code",
   "execution_count": 15,
   "metadata": {},
   "outputs": [
    {
     "data": {
      "text/plain": [
       "0.13537278412833242"
      ]
     },
     "execution_count": 15,
     "metadata": {},
     "output_type": "execute_result"
    }
   ],
   "source": [
    "lvl_1_model['own_recommendations'] = lvl_1_model['user_id'].apply(lambda x: recommender.get_own_recommendations(x, 200))\n",
    "lvl_1_model['own_recall'] = lvl_1_model.apply(lambda row: recall_at_k(row['own_recommendations'], row['actual'], k=200), axis=1)\n",
    "lvl_1_model['own_recall'].mean()"
   ]
  },
  {
   "cell_type": "markdown",
   "metadata": {},
   "source": [
    "Максимальный результат дал own_recommendations"
   ]
  },
  {
   "cell_type": "markdown",
   "metadata": {},
   "source": [
    "Посмотрим, как изменяется recall_at_k при изменении k"
   ]
  },
  {
   "cell_type": "code",
   "execution_count": 16,
   "metadata": {},
   "outputs": [
    {
     "data": {
      "image/png": "[encoded data removed]",
      "text/plain": [
       "<Figure size 1152x576 with 1 Axes>"
      ]
     },
     "metadata": {
      "needs_background": "light"
     },
     "output_type": "display_data"
    },
    {
     "name": "stdout",
     "output_type": "stream",
     "text": [
      "Wall time: 2min 47s\n"
     ]
    }
   ],
   "source": [
    "%%time\n",
    "k = [20, 50, 100, 200, 500, 1000, 1500]\n",
    "recall_at_k_lst = []\n",
    "\n",
    "for i in k:\n",
    "    lvl_1_model[f'similar_items_recs_{i}'] = lvl_1_model['user_id'].apply(lambda x: \\\n",
    "                                                                          recommender.get_similar_items_recommendation(x, N=i))\n",
    "    rec_at_k = lvl_1_model.apply(lambda row: recall_at_k(row[f'similar_items_recs_{i}'], row['actual'], k=i), axis=1).mean()\n",
    "    recall_at_k_lst.append(rec_at_k)\n",
    "\n",
    "plt.rcParams[\"figure.figsize\"] = (16,8)\n",
    "plt.plot(k, recall_at_k_lst, color='green', marker='o', linewidth=4, markersize=12)\n",
    "plt.title('Зависимость recall@k от k')\n",
    "plt.xlabel('k')\n",
    "plt.ylabel('recall@k')\n",
    "plt.grid(True)\n",
    "plt.show()"
   ]
  },
  {
   "cell_type": "code",
   "execution_count": 17,
   "metadata": {},
   "outputs": [
    {
     "data": {
      "text/plain": [
       "[0.21204709453292198]"
      ]
     },
     "execution_count": 17,
     "metadata": {},
     "output_type": "execute_result"
    }
   ],
   "source": [
    "recall_at_k_lst[-1:]"
   ]
  },
  {
   "cell_type": "markdown",
   "metadata": {},
   "source": [
    "**Вывод:**\n",
    "    с увеличением k значение recall_at_k увеличивается."
   ]
  },
  {
   "cell_type": "code",
   "execution_count": null,
   "metadata": {},
   "outputs": [],
   "source": []
  },
  {
   "cell_type": "markdown",
   "metadata": {},
   "source": [
    "### Задание 2.\n",
    "\n",
    "Обучите модель 2-ого уровня, при этом:\n",
    "    - Добавьте минимум по 2 фичи для юзера, товара и пары юзер-товар\n",
    "    - Измерьте отдельно precision@5 модели 1-ого уровня и двухуровневой модели на data_val_lvl_2\n",
    "    - Вырос ли precision@5 при использовании двухуровневой модели?"
   ]
  },
  {
   "cell_type": "markdown",
   "metadata": {},
   "source": [
    "**Решение**"
   ]
  },
  {
   "cell_type": "markdown",
   "metadata": {},
   "source": [
    "Посмотрим данные модели первого уровня"
   ]
  },
  {
   "cell_type": "code",
   "execution_count": 18,
   "metadata": {},
   "outputs": [
    {
     "data": {
      "text/html": [
       "<div>\n",
       "<style scoped>\n",
       "    .dataframe tbody tr th:only-of-type {\n",
       "        vertical-align: middle;\n",
       "    }\n",
       "\n",
       "    .dataframe tbody tr th {\n",
       "        vertical-align: top;\n",
       "    }\n",
       "\n",
       "    .dataframe thead th {\n",
       "        text-align: right;\n",
       "    }\n",
       "</style>\n",
       "<table border=\"1\" class=\"dataframe\">\n",
       "  <thead>\n",
       "    <tr style=\"text-align: right;\">\n",
       "      <th></th>\n",
       "      <th>user_id</th>\n",
       "      <th>actual</th>\n",
       "      <th>similar_item_recommendations</th>\n",
       "      <th>similar_item_recall</th>\n",
       "      <th>als_recommendations</th>\n",
       "      <th>als_recall</th>\n",
       "      <th>own_recommendations</th>\n",
       "      <th>own_recall</th>\n",
       "      <th>similar_items_recs_20</th>\n",
       "      <th>similar_items_recs_50</th>\n",
       "      <th>similar_items_recs_100</th>\n",
       "      <th>similar_items_recs_200</th>\n",
       "      <th>similar_items_recs_500</th>\n",
       "      <th>similar_items_recs_1000</th>\n",
       "      <th>similar_items_recs_1500</th>\n",
       "    </tr>\n",
       "  </thead>\n",
       "  <tbody>\n",
       "    <tr>\n",
       "      <th>2152</th>\n",
       "      <td>2499</td>\n",
       "      <td>[861282, 921744, 1050968, 13842089, 828837, 86...</td>\n",
       "      <td>[901062, 5569845, 907631, 10143885, 952163, 10...</td>\n",
       "      <td>0.098592</td>\n",
       "      <td>[1029743, 5569230, 5568378, 907631, 5569327, 8...</td>\n",
       "      <td>0.126761</td>\n",
       "      <td>[7168055, 1128395, 6904613, 5570048, 889989, 8...</td>\n",
       "      <td>0.154930</td>\n",
       "      <td>[901062, 5569845, 907631, 10143885, 952163, 10...</td>\n",
       "      <td>[901062, 5569845, 907631, 10143885, 952163, 10...</td>\n",
       "      <td>[901062, 5569845, 907631, 10143885, 952163, 10...</td>\n",
       "      <td>[901062, 5569845, 907631, 10143885, 952163, 10...</td>\n",
       "      <td>[901062, 5569845, 907631, 10143885, 952163, 10...</td>\n",
       "      <td>[901062, 5569845, 907631, 10143885, 952163, 10...</td>\n",
       "      <td>[901062, 5569845, 907631, 10143885, 952163, 10...</td>\n",
       "    </tr>\n",
       "    <tr>\n",
       "      <th>2153</th>\n",
       "      <td>2500</td>\n",
       "      <td>[856455, 902192, 903476, 931672, 936634, 95170...</td>\n",
       "      <td>[1079419, 1034176, 5567874, 823721, 1018007, 8...</td>\n",
       "      <td>0.022727</td>\n",
       "      <td>[859877, 1114811, 972665, 939681, 1085031, 100...</td>\n",
       "      <td>0.011364</td>\n",
       "      <td>[1063739, 12262832, 1086061, 879393, 1065538, ...</td>\n",
       "      <td>0.079545</td>\n",
       "      <td>[1079419, 1034176, 5567874, 823721, 1018007, 8...</td>\n",
       "      <td>[1079419, 1034176, 5567874, 823721, 1018007, 8...</td>\n",
       "      <td>[1079419, 1034176, 5567874, 823721, 1018007, 8...</td>\n",
       "      <td>[1079419, 1034176, 5567874, 823721, 1018007, 8...</td>\n",
       "      <td>[1079419, 1034176, 5567874, 823721, 1018007, 8...</td>\n",
       "      <td>[1079419, 1034176, 5567874, 823721, 1018007, 8...</td>\n",
       "      <td>[1079419, 1034176, 5567874, 823721, 1018007, 8...</td>\n",
       "    </tr>\n",
       "  </tbody>\n",
       "</table>\n",
       "</div>"
      ],
      "text/plain": [
       "      user_id                                             actual  \\\n",
       "2152     2499  [861282, 921744, 1050968, 13842089, 828837, 86...   \n",
       "2153     2500  [856455, 902192, 903476, 931672, 936634, 95170...   \n",
       "\n",
       "                           similar_item_recommendations  similar_item_recall  \\\n",
       "2152  [901062, 5569845, 907631, 10143885, 952163, 10...             0.098592   \n",
       "2153  [1079419, 1034176, 5567874, 823721, 1018007, 8...             0.022727   \n",
       "\n",
       "                                    als_recommendations  als_recall  \\\n",
       "2152  [1029743, 5569230, 5568378, 907631, 5569327, 8...    0.126761   \n",
       "2153  [859877, 1114811, 972665, 939681, 1085031, 100...    0.011364   \n",
       "\n",
       "                                    own_recommendations  own_recall  \\\n",
       "2152  [7168055, 1128395, 6904613, 5570048, 889989, 8...    0.154930   \n",
       "2153  [1063739, 12262832, 1086061, 879393, 1065538, ...    0.079545   \n",
       "\n",
       "                                  similar_items_recs_20  \\\n",
       "2152  [901062, 5569845, 907631, 10143885, 952163, 10...   \n",
       "2153  [1079419, 1034176, 5567874, 823721, 1018007, 8...   \n",
       "\n",
       "                                  similar_items_recs_50  \\\n",
       "2152  [901062, 5569845, 907631, 10143885, 952163, 10...   \n",
       "2153  [1079419, 1034176, 5567874, 823721, 1018007, 8...   \n",
       "\n",
       "                                 similar_items_recs_100  \\\n",
       "2152  [901062, 5569845, 907631, 10143885, 952163, 10...   \n",
       "2153  [1079419, 1034176, 5567874, 823721, 1018007, 8...   \n",
       "\n",
       "                                 similar_items_recs_200  \\\n",
       "2152  [901062, 5569845, 907631, 10143885, 952163, 10...   \n",
       "2153  [1079419, 1034176, 5567874, 823721, 1018007, 8...   \n",
       "\n",
       "                                 similar_items_recs_500  \\\n",
       "2152  [901062, 5569845, 907631, 10143885, 952163, 10...   \n",
       "2153  [1079419, 1034176, 5567874, 823721, 1018007, 8...   \n",
       "\n",
       "                                similar_items_recs_1000  \\\n",
       "2152  [901062, 5569845, 907631, 10143885, 952163, 10...   \n",
       "2153  [1079419, 1034176, 5567874, 823721, 1018007, 8...   \n",
       "\n",
       "                                similar_items_recs_1500  \n",
       "2152  [901062, 5569845, 907631, 10143885, 952163, 10...  \n",
       "2153  [1079419, 1034176, 5567874, 823721, 1018007, 8...  "
      ]
     },
     "execution_count": 18,
     "metadata": {},
     "output_type": "execute_result"
    }
   ],
   "source": [
    "# your_code\n",
    "lvl_1_model.tail(2)"
   ]
  },
  {
   "cell_type": "markdown",
   "metadata": {},
   "source": [
    "Посмотрим данные на втором уровне модели"
   ]
  },
  {
   "cell_type": "code",
   "execution_count": 19,
   "metadata": {},
   "outputs": [
    {
     "data": {
      "text/html": [
       "<div>\n",
       "<style scoped>\n",
       "    .dataframe tbody tr th:only-of-type {\n",
       "        vertical-align: middle;\n",
       "    }\n",
       "\n",
       "    .dataframe tbody tr th {\n",
       "        vertical-align: top;\n",
       "    }\n",
       "\n",
       "    .dataframe thead th {\n",
       "        text-align: right;\n",
       "    }\n",
       "</style>\n",
       "<table border=\"1\" class=\"dataframe\">\n",
       "  <thead>\n",
       "    <tr style=\"text-align: right;\">\n",
       "      <th></th>\n",
       "      <th>user_id</th>\n",
       "      <th>basket_id</th>\n",
       "      <th>day</th>\n",
       "      <th>item_id</th>\n",
       "      <th>quantity</th>\n",
       "      <th>sales_value</th>\n",
       "      <th>store_id</th>\n",
       "      <th>retail_disc</th>\n",
       "      <th>trans_time</th>\n",
       "      <th>week_no</th>\n",
       "      <th>coupon_disc</th>\n",
       "      <th>coupon_match_disc</th>\n",
       "    </tr>\n",
       "  </thead>\n",
       "  <tbody>\n",
       "    <tr>\n",
       "      <th>2396802</th>\n",
       "      <td>1167</td>\n",
       "      <td>41656790510</td>\n",
       "      <td>663</td>\n",
       "      <td>6410462</td>\n",
       "      <td>22451</td>\n",
       "      <td>43.98</td>\n",
       "      <td>3385</td>\n",
       "      <td>-0.65</td>\n",
       "      <td>1059</td>\n",
       "      <td>95</td>\n",
       "      <td>0.0</td>\n",
       "      <td>0.0</td>\n",
       "    </tr>\n",
       "    <tr>\n",
       "      <th>2396803</th>\n",
       "      <td>1167</td>\n",
       "      <td>41656790510</td>\n",
       "      <td>663</td>\n",
       "      <td>6430664</td>\n",
       "      <td>1</td>\n",
       "      <td>8.00</td>\n",
       "      <td>3385</td>\n",
       "      <td>0.00</td>\n",
       "      <td>1059</td>\n",
       "      <td>95</td>\n",
       "      <td>0.0</td>\n",
       "      <td>0.0</td>\n",
       "    </tr>\n",
       "  </tbody>\n",
       "</table>\n",
       "</div>"
      ],
      "text/plain": [
       "         user_id    basket_id  day  item_id  quantity  sales_value  store_id  \\\n",
       "2396802     1167  41656790510  663  6410462     22451        43.98      3385   \n",
       "2396803     1167  41656790510  663  6430664         1         8.00      3385   \n",
       "\n",
       "         retail_disc  trans_time  week_no  coupon_disc  coupon_match_disc  \n",
       "2396802        -0.65        1059       95          0.0                0.0  \n",
       "2396803         0.00        1059       95          0.0                0.0  "
      ]
     },
     "execution_count": 19,
     "metadata": {},
     "output_type": "execute_result"
    }
   ],
   "source": [
    "data_val_lvl_2.tail(2)"
   ]
  },
  {
   "cell_type": "markdown",
   "metadata": {},
   "source": [
    "Посмотрим рекомендации ALS"
   ]
  },
  {
   "cell_type": "code",
   "execution_count": 20,
   "metadata": {},
   "outputs": [
    {
     "data": {
      "text/html": [
       "<div>\n",
       "<style scoped>\n",
       "    .dataframe tbody tr th:only-of-type {\n",
       "        vertical-align: middle;\n",
       "    }\n",
       "\n",
       "    .dataframe tbody tr th {\n",
       "        vertical-align: top;\n",
       "    }\n",
       "\n",
       "    .dataframe thead th {\n",
       "        text-align: right;\n",
       "    }\n",
       "</style>\n",
       "<table border=\"1\" class=\"dataframe\">\n",
       "  <thead>\n",
       "    <tr style=\"text-align: right;\">\n",
       "      <th></th>\n",
       "      <th>user_id</th>\n",
       "      <th>als_recommendations</th>\n",
       "    </tr>\n",
       "  </thead>\n",
       "  <tbody>\n",
       "    <tr>\n",
       "      <th>2149</th>\n",
       "      <td>2496</td>\n",
       "      <td>[844179, 899624, 1004906, 1044078, 8065410, 91...</td>\n",
       "    </tr>\n",
       "    <tr>\n",
       "      <th>2150</th>\n",
       "      <td>2497</td>\n",
       "      <td>[12810391, 899624, 963971, 957951, 5569471, 10...</td>\n",
       "    </tr>\n",
       "    <tr>\n",
       "      <th>2151</th>\n",
       "      <td>2498</td>\n",
       "      <td>[925766, 948086, 1045586, 5995603, 940947, 663...</td>\n",
       "    </tr>\n",
       "    <tr>\n",
       "      <th>2152</th>\n",
       "      <td>2499</td>\n",
       "      <td>[1029743, 5569230, 5568378, 907631, 5569327, 8...</td>\n",
       "    </tr>\n",
       "    <tr>\n",
       "      <th>2153</th>\n",
       "      <td>2500</td>\n",
       "      <td>[859877, 1114811, 972665, 939681, 1085031, 100...</td>\n",
       "    </tr>\n",
       "  </tbody>\n",
       "</table>\n",
       "</div>"
      ],
      "text/plain": [
       "      user_id                                als_recommendations\n",
       "2149     2496  [844179, 899624, 1004906, 1044078, 8065410, 91...\n",
       "2150     2497  [12810391, 899624, 963971, 957951, 5569471, 10...\n",
       "2151     2498  [925766, 948086, 1045586, 5995603, 940947, 663...\n",
       "2152     2499  [1029743, 5569230, 5568378, 907631, 5569327, 8...\n",
       "2153     2500  [859877, 1114811, 972665, 939681, 1085031, 100..."
      ]
     },
     "execution_count": 20,
     "metadata": {},
     "output_type": "execute_result"
    }
   ],
   "source": [
    "lvl_1_model['als_precision'] = lvl_1_model.apply(lambda row: precision_at_k(row['als_recommendations'], \\\n",
    "                                                                            row['actual'], k=200), axis=1)\n",
    "als_recommendations = lvl_1_model[['user_id', 'als_recommendations']]\n",
    "als_recommendations.tail()"
   ]
  },
  {
   "cell_type": "markdown",
   "metadata": {},
   "source": [
    "Посмотрим список фактических айтемов и предлагаемых ALS"
   ]
  },
  {
   "cell_type": "code",
   "execution_count": 21,
   "metadata": {},
   "outputs": [
    {
     "data": {
      "text/html": [
       "<div>\n",
       "<style scoped>\n",
       "    .dataframe tbody tr th:only-of-type {\n",
       "        vertical-align: middle;\n",
       "    }\n",
       "\n",
       "    .dataframe tbody tr th {\n",
       "        vertical-align: top;\n",
       "    }\n",
       "\n",
       "    .dataframe thead th {\n",
       "        text-align: right;\n",
       "    }\n",
       "</style>\n",
       "<table border=\"1\" class=\"dataframe\">\n",
       "  <thead>\n",
       "    <tr style=\"text-align: right;\">\n",
       "      <th></th>\n",
       "      <th>user_id</th>\n",
       "      <th>actual</th>\n",
       "      <th>als_recommendations</th>\n",
       "    </tr>\n",
       "  </thead>\n",
       "  <tbody>\n",
       "    <tr>\n",
       "      <th>2040</th>\n",
       "      <td>2499</td>\n",
       "      <td>[867188, 877580, 902396, 914190, 951590, 95813...</td>\n",
       "      <td>[1029743, 5569230, 5568378, 907631, 5569327, 8...</td>\n",
       "    </tr>\n",
       "    <tr>\n",
       "      <th>2041</th>\n",
       "      <td>2500</td>\n",
       "      <td>[852182, 856345, 923746, 948670, 1018007, 1044...</td>\n",
       "      <td>[859877, 1114811, 972665, 939681, 1085031, 100...</td>\n",
       "    </tr>\n",
       "  </tbody>\n",
       "</table>\n",
       "</div>"
      ],
      "text/plain": [
       "      user_id                                             actual  \\\n",
       "2040     2499  [867188, 877580, 902396, 914190, 951590, 95813...   \n",
       "2041     2500  [852182, 856345, 923746, 948670, 1018007, 1044...   \n",
       "\n",
       "                                    als_recommendations  \n",
       "2040  [1029743, 5569230, 5568378, 907631, 5569327, 8...  \n",
       "2041  [859877, 1114811, 972665, 939681, 1085031, 100...  "
      ]
     },
     "execution_count": 21,
     "metadata": {},
     "output_type": "execute_result"
    }
   ],
   "source": [
    "valid_lvl_2 = data_val_lvl_2.groupby('user_id')['item_id'].unique().reset_index().rename(columns={'item_id': 'actual'})\n",
    "valid_lvl_2 = valid_lvl_2.merge(als_recommendations, on='user_id', how='left')\n",
    "valid_lvl_2.tail(2)"
   ]
  },
  {
   "cell_type": "markdown",
   "metadata": {},
   "source": [
    "Посчитаем на валидационных данных precision_at_k рекомендаций, выдаваемых моделью второго уровня. Это будет точность рекомендаций в начальном приближении для отслеживания дальнейшего прогресса."
   ]
  },
  {
   "cell_type": "code",
   "execution_count": 22,
   "metadata": {},
   "outputs": [
    {
     "data": {
      "text/plain": [
       "0.10349869451697083"
      ]
     },
     "execution_count": 22,
     "metadata": {},
     "output_type": "execute_result"
    }
   ],
   "source": [
    "valid_lvl_2[valid_lvl_2.als_recommendations.notna()].apply(lambda row: \\\n",
    "                                                precision_at_k(row['als_recommendations'], row['actual'], k=5), axis=1).mean()"
   ]
  },
  {
   "cell_type": "markdown",
   "metadata": {},
   "source": [
    "Добавим фиктивную переменную flag в список юзеров на втором уровне модели"
   ]
  },
  {
   "cell_type": "code",
   "execution_count": 23,
   "metadata": {},
   "outputs": [
    {
     "data": {
      "text/html": [
       "<div>\n",
       "<style scoped>\n",
       "    .dataframe tbody tr th:only-of-type {\n",
       "        vertical-align: middle;\n",
       "    }\n",
       "\n",
       "    .dataframe tbody tr th {\n",
       "        vertical-align: top;\n",
       "    }\n",
       "\n",
       "    .dataframe thead th {\n",
       "        text-align: right;\n",
       "    }\n",
       "</style>\n",
       "<table border=\"1\" class=\"dataframe\">\n",
       "  <thead>\n",
       "    <tr style=\"text-align: right;\">\n",
       "      <th></th>\n",
       "      <th>user_id</th>\n",
       "      <th>item_id</th>\n",
       "      <th>flag</th>\n",
       "    </tr>\n",
       "  </thead>\n",
       "  <tbody>\n",
       "    <tr>\n",
       "      <th>2150</th>\n",
       "      <td>2500</td>\n",
       "      <td>980984</td>\n",
       "      <td>1</td>\n",
       "    </tr>\n",
       "    <tr>\n",
       "      <th>2150</th>\n",
       "      <td>2500</td>\n",
       "      <td>1082185</td>\n",
       "      <td>1</td>\n",
       "    </tr>\n",
       "  </tbody>\n",
       "</table>\n",
       "</div>"
      ],
      "text/plain": [
       "      user_id  item_id  flag\n",
       "2150     2500   980984     1\n",
       "2150     2500  1082185     1"
      ]
     },
     "execution_count": 23,
     "metadata": {},
     "output_type": "execute_result"
    }
   ],
   "source": [
    "users_lvl_2 = pd.DataFrame(lvl_1_model['user_id'].unique())\n",
    "users_lvl_2.columns = ['user_id']\n",
    "\n",
    "train_users = data_train_lvl_1['user_id'].unique()\n",
    "users_lvl_2 = users_lvl_2[users_lvl_2['user_id'].isin(train_users)]\n",
    "\n",
    "users_lvl_2['recommendations'] = users_lvl_2['user_id'].apply(lambda x: recommender.get_als_recommendations(x, 200))\n",
    "\n",
    "s = users_lvl_2.apply(lambda x: pd.Series(x['recommendations']), axis=1).stack().reset_index(level=1, drop=True)\n",
    "s.name = 'item_id'\n",
    "\n",
    "users_lvl_2 = users_lvl_2.drop('recommendations', axis=1).join(s)\n",
    "users_lvl_2['flag'] = 1\n",
    "\n",
    "users_lvl_2.tail(2)"
   ]
  },
  {
   "cell_type": "markdown",
   "metadata": {},
   "source": [
    "Скопируем данные модели 1-го уровня в модель 2-го уровня"
   ]
  },
  {
   "cell_type": "code",
   "execution_count": 24,
   "metadata": {},
   "outputs": [],
   "source": [
    "data_train_lvl_2 = data_val_lvl_1.copy()"
   ]
  },
  {
   "cell_type": "code",
   "execution_count": 25,
   "metadata": {},
   "outputs": [
    {
     "data": {
      "text/plain": [
       "Index(['user_id', 'basket_id', 'day', 'item_id', 'quantity', 'sales_value',\n",
       "       'store_id', 'retail_disc', 'trans_time', 'week_no', 'coupon_disc',\n",
       "       'coupon_match_disc'],\n",
       "      dtype='object')"
      ]
     },
     "execution_count": 25,
     "metadata": {},
     "output_type": "execute_result"
    }
   ],
   "source": [
    "data_train_lvl_2.columns"
   ]
  },
  {
   "cell_type": "code",
   "execution_count": 26,
   "metadata": {},
   "outputs": [],
   "source": [
    "data_train_lvl_2.to_csv('data_train_lvl_2.csv')"
   ]
  },
  {
   "cell_type": "markdown",
   "metadata": {},
   "source": [
    "Объединим юзеров и таргеты"
   ]
  },
  {
   "cell_type": "code",
   "execution_count": 27,
   "metadata": {},
   "outputs": [
    {
     "data": {
      "text/html": [
       "<div>\n",
       "<style scoped>\n",
       "    .dataframe tbody tr th:only-of-type {\n",
       "        vertical-align: middle;\n",
       "    }\n",
       "\n",
       "    .dataframe tbody tr th {\n",
       "        vertical-align: top;\n",
       "    }\n",
       "\n",
       "    .dataframe thead th {\n",
       "        text-align: right;\n",
       "    }\n",
       "</style>\n",
       "<table border=\"1\" class=\"dataframe\">\n",
       "  <thead>\n",
       "    <tr style=\"text-align: right;\">\n",
       "      <th></th>\n",
       "      <th>user_id</th>\n",
       "      <th>item_id</th>\n",
       "      <th>target</th>\n",
       "    </tr>\n",
       "  </thead>\n",
       "  <tbody>\n",
       "    <tr>\n",
       "      <th>436106</th>\n",
       "      <td>2500</td>\n",
       "      <td>1082185</td>\n",
       "      <td>1.0</td>\n",
       "    </tr>\n",
       "    <tr>\n",
       "      <th>436107</th>\n",
       "      <td>2500</td>\n",
       "      <td>1082185</td>\n",
       "      <td>1.0</td>\n",
       "    </tr>\n",
       "  </tbody>\n",
       "</table>\n",
       "</div>"
      ],
      "text/plain": [
       "        user_id  item_id  target\n",
       "436106     2500  1082185     1.0\n",
       "436107     2500  1082185     1.0"
      ]
     },
     "execution_count": 27,
     "metadata": {},
     "output_type": "execute_result"
    }
   ],
   "source": [
    "targets_lvl_2 = data_train_lvl_2[['user_id', 'item_id']].copy()\n",
    "targets_lvl_2['target'] = 1  \n",
    "\n",
    "targets_lvl_2 = users_lvl_2.merge(targets_lvl_2, on=['user_id', 'item_id'], how='left')\n",
    "\n",
    "targets_lvl_2['target'].fillna(0, inplace= True)\n",
    "targets_lvl_2.drop('flag', axis=1, inplace=True)\n",
    "targets_lvl_2.tail(2)"
   ]
  },
  {
   "cell_type": "code",
   "execution_count": 28,
   "metadata": {},
   "outputs": [
    {
     "data": {
      "text/plain": [
       "0.044200060535463694"
      ]
     },
     "execution_count": 28,
     "metadata": {},
     "output_type": "execute_result"
    }
   ],
   "source": [
    "targets_lvl_2['target'].mean()"
   ]
  },
  {
   "cell_type": "markdown",
   "metadata": {},
   "source": [
    "Добавим айтемам цены"
   ]
  },
  {
   "cell_type": "code",
   "execution_count": 29,
   "metadata": {},
   "outputs": [],
   "source": [
    "price = data.groupby('item_id')['sales_value'].max()\n",
    "item_features = item_features.merge(price, on='item_id', how='left').rename(columns={'sales_value': 'price'})"
   ]
  },
  {
   "cell_type": "markdown",
   "metadata": {},
   "source": [
    "Добавим айтемам средние цены"
   ]
  },
  {
   "cell_type": "code",
   "execution_count": 30,
   "metadata": {},
   "outputs": [],
   "source": [
    "avg_price_by_cat = item_features.groupby('commodity_desc')['price'].mean()\n",
    "item_features = item_features.merge(avg_price_by_cat, on='commodity_desc', how='left')\\\n",
    "                                                                .rename(columns={'price_x': 'price', 'price_y': 'avg_price'})"
   ]
  },
  {
   "cell_type": "markdown",
   "metadata": {},
   "source": [
    "Добавим айтемам цены корзины покупок"
   ]
  },
  {
   "cell_type": "code",
   "execution_count": 31,
   "metadata": {},
   "outputs": [],
   "source": [
    "basket_price = data.groupby('basket_id')['sales_value'].sum()\n",
    "data = data.merge(basket_price, on='basket_id', how='left').rename(columns={'sales_value_x': 'sales_value', \\\n",
    "                                                                            'sales_value_y': 'basket_price'})\n",
    "avg_basket_per_user = data.groupby('user_id').basket_price.mean()\n",
    "user_features = user_features.merge(avg_basket_per_user, on='user_id', how='left')"
   ]
  },
  {
   "cell_type": "markdown",
   "metadata": {},
   "source": [
    "Добавим фичу \"Средняя сумма покупок в неделю\". Еще хотелось бы поработать с age_desc (подозреваю, что там есть резерв для роста итоговой точности), но нет времени"
   ]
  },
  {
   "cell_type": "code",
   "execution_count": 32,
   "metadata": {},
   "outputs": [],
   "source": [
    "x = data.groupby(['user_id', 'week_no']).basket_id.count().reset_index().groupby('user_id').agg(['count', 'sum'])\n",
    "x.columns = x.columns.droplevel(0)\n",
    "avg_purchases_per_week = x.iloc[:, 2:].apply(lambda row: row['sum'] / row['count'], axis=1)\n",
    "avg_purchases_per_week.name = 'avg_purchases_per_week'\n",
    "user_features = user_features.merge(avg_purchases_per_week, on='user_id', how='left')"
   ]
  },
  {
   "cell_type": "code",
   "execution_count": 33,
   "metadata": {},
   "outputs": [
    {
     "data": {
      "text/html": [
       "<div>\n",
       "<style scoped>\n",
       "    .dataframe tbody tr th:only-of-type {\n",
       "        vertical-align: middle;\n",
       "    }\n",
       "\n",
       "    .dataframe tbody tr th {\n",
       "        vertical-align: top;\n",
       "    }\n",
       "\n",
       "    .dataframe thead th {\n",
       "        text-align: right;\n",
       "    }\n",
       "</style>\n",
       "<table border=\"1\" class=\"dataframe\">\n",
       "  <thead>\n",
       "    <tr style=\"text-align: right;\">\n",
       "      <th></th>\n",
       "      <th>age_desc</th>\n",
       "      <th>marital_status_code</th>\n",
       "      <th>income_desc</th>\n",
       "      <th>homeowner_desc</th>\n",
       "      <th>hh_comp_desc</th>\n",
       "      <th>household_size_desc</th>\n",
       "      <th>kid_category_desc</th>\n",
       "      <th>user_id</th>\n",
       "      <th>basket_price</th>\n",
       "      <th>avg_purchases_per_week</th>\n",
       "    </tr>\n",
       "  </thead>\n",
       "  <tbody>\n",
       "    <tr>\n",
       "      <th>798</th>\n",
       "      <td>45-54</td>\n",
       "      <td>U</td>\n",
       "      <td>35-49K</td>\n",
       "      <td>Unknown</td>\n",
       "      <td>Single Male</td>\n",
       "      <td>1</td>\n",
       "      <td>None/Unknown</td>\n",
       "      <td>2497</td>\n",
       "      <td>76.975501</td>\n",
       "      <td>23.925926</td>\n",
       "    </tr>\n",
       "    <tr>\n",
       "      <th>799</th>\n",
       "      <td>25-34</td>\n",
       "      <td>U</td>\n",
       "      <td>50-74K</td>\n",
       "      <td>Homeowner</td>\n",
       "      <td>2 Adults No Kids</td>\n",
       "      <td>2</td>\n",
       "      <td>None/Unknown</td>\n",
       "      <td>2498</td>\n",
       "      <td>39.940936</td>\n",
       "      <td>13.883333</td>\n",
       "    </tr>\n",
       "    <tr>\n",
       "      <th>800</th>\n",
       "      <td>25-34</td>\n",
       "      <td>U</td>\n",
       "      <td>Under 15K</td>\n",
       "      <td>Unknown</td>\n",
       "      <td>2 Adults Kids</td>\n",
       "      <td>3</td>\n",
       "      <td>1</td>\n",
       "      <td>2499</td>\n",
       "      <td>117.282023</td>\n",
       "      <td>19.775510</td>\n",
       "    </tr>\n",
       "  </tbody>\n",
       "</table>\n",
       "</div>"
      ],
      "text/plain": [
       "    age_desc marital_status_code income_desc homeowner_desc      hh_comp_desc  \\\n",
       "798    45-54                   U      35-49K        Unknown       Single Male   \n",
       "799    25-34                   U      50-74K      Homeowner  2 Adults No Kids   \n",
       "800    25-34                   U   Under 15K        Unknown     2 Adults Kids   \n",
       "\n",
       "    household_size_desc kid_category_desc  user_id  basket_price  \\\n",
       "798                   1      None/Unknown     2497     76.975501   \n",
       "799                   2      None/Unknown     2498     39.940936   \n",
       "800                   3                 1     2499    117.282023   \n",
       "\n",
       "     avg_purchases_per_week  \n",
       "798               23.925926  \n",
       "799               13.883333  \n",
       "800               19.775510  "
      ]
     },
     "execution_count": 33,
     "metadata": {},
     "output_type": "execute_result"
    }
   ],
   "source": [
    "user_features.tail(3)"
   ]
  },
  {
   "cell_type": "markdown",
   "metadata": {},
   "source": [
    "Объединим в таргеты для модели 2-го уровня фичи айтемов и фичи юзеров"
   ]
  },
  {
   "cell_type": "code",
   "execution_count": 34,
   "metadata": {},
   "outputs": [
    {
     "data": {
      "text/html": [
       "<div>\n",
       "<style scoped>\n",
       "    .dataframe tbody tr th:only-of-type {\n",
       "        vertical-align: middle;\n",
       "    }\n",
       "\n",
       "    .dataframe tbody tr th {\n",
       "        vertical-align: top;\n",
       "    }\n",
       "\n",
       "    .dataframe thead th {\n",
       "        text-align: right;\n",
       "    }\n",
       "</style>\n",
       "<table border=\"1\" class=\"dataframe\">\n",
       "  <thead>\n",
       "    <tr style=\"text-align: right;\">\n",
       "      <th></th>\n",
       "      <th>user_id</th>\n",
       "      <th>item_id</th>\n",
       "      <th>target</th>\n",
       "      <th>manufacturer</th>\n",
       "      <th>department</th>\n",
       "      <th>brand</th>\n",
       "      <th>commodity_desc</th>\n",
       "      <th>price</th>\n",
       "      <th>avg_price</th>\n",
       "      <th>age_desc</th>\n",
       "      <th>income_desc</th>\n",
       "      <th>household_size_desc</th>\n",
       "      <th>avg_purchases_per_week</th>\n",
       "      <th>basket_price</th>\n",
       "    </tr>\n",
       "  </thead>\n",
       "  <tbody>\n",
       "    <tr>\n",
       "      <th>436103</th>\n",
       "      <td>2500</td>\n",
       "      <td>826120</td>\n",
       "      <td>0.0</td>\n",
       "      <td>1251</td>\n",
       "      <td>GROCERY</td>\n",
       "      <td>National</td>\n",
       "      <td>CANNED JUICES</td>\n",
       "      <td>7.52</td>\n",
       "      <td>4.910675</td>\n",
       "      <td>NaN</td>\n",
       "      <td>NaN</td>\n",
       "      <td>NaN</td>\n",
       "      <td>NaN</td>\n",
       "      <td>NaN</td>\n",
       "    </tr>\n",
       "    <tr>\n",
       "      <th>436104</th>\n",
       "      <td>2500</td>\n",
       "      <td>854852</td>\n",
       "      <td>0.0</td>\n",
       "      <td>2</td>\n",
       "      <td>PRODUCE</td>\n",
       "      <td>National</td>\n",
       "      <td>TOMATOES</td>\n",
       "      <td>31.57</td>\n",
       "      <td>5.021786</td>\n",
       "      <td>NaN</td>\n",
       "      <td>NaN</td>\n",
       "      <td>NaN</td>\n",
       "      <td>NaN</td>\n",
       "      <td>NaN</td>\n",
       "    </tr>\n",
       "    <tr>\n",
       "      <th>436105</th>\n",
       "      <td>2500</td>\n",
       "      <td>980984</td>\n",
       "      <td>0.0</td>\n",
       "      <td>69</td>\n",
       "      <td>GROCERY</td>\n",
       "      <td>Private</td>\n",
       "      <td>CHEESE</td>\n",
       "      <td>5.98</td>\n",
       "      <td>5.183636</td>\n",
       "      <td>NaN</td>\n",
       "      <td>NaN</td>\n",
       "      <td>NaN</td>\n",
       "      <td>NaN</td>\n",
       "      <td>NaN</td>\n",
       "    </tr>\n",
       "    <tr>\n",
       "      <th>436106</th>\n",
       "      <td>2500</td>\n",
       "      <td>1082185</td>\n",
       "      <td>1.0</td>\n",
       "      <td>2</td>\n",
       "      <td>PRODUCE</td>\n",
       "      <td>National</td>\n",
       "      <td>TROPICAL FRUIT</td>\n",
       "      <td>13.69</td>\n",
       "      <td>5.537250</td>\n",
       "      <td>NaN</td>\n",
       "      <td>NaN</td>\n",
       "      <td>NaN</td>\n",
       "      <td>NaN</td>\n",
       "      <td>NaN</td>\n",
       "    </tr>\n",
       "    <tr>\n",
       "      <th>436107</th>\n",
       "      <td>2500</td>\n",
       "      <td>1082185</td>\n",
       "      <td>1.0</td>\n",
       "      <td>2</td>\n",
       "      <td>PRODUCE</td>\n",
       "      <td>National</td>\n",
       "      <td>TROPICAL FRUIT</td>\n",
       "      <td>13.69</td>\n",
       "      <td>5.537250</td>\n",
       "      <td>NaN</td>\n",
       "      <td>NaN</td>\n",
       "      <td>NaN</td>\n",
       "      <td>NaN</td>\n",
       "      <td>NaN</td>\n",
       "    </tr>\n",
       "  </tbody>\n",
       "</table>\n",
       "</div>"
      ],
      "text/plain": [
       "        user_id  item_id  target  manufacturer department     brand  \\\n",
       "436103     2500   826120     0.0          1251    GROCERY  National   \n",
       "436104     2500   854852     0.0             2    PRODUCE  National   \n",
       "436105     2500   980984     0.0            69    GROCERY   Private   \n",
       "436106     2500  1082185     1.0             2    PRODUCE  National   \n",
       "436107     2500  1082185     1.0             2    PRODUCE  National   \n",
       "\n",
       "        commodity_desc  price  avg_price age_desc income_desc  \\\n",
       "436103   CANNED JUICES   7.52   4.910675      NaN         NaN   \n",
       "436104        TOMATOES  31.57   5.021786      NaN         NaN   \n",
       "436105          CHEESE   5.98   5.183636      NaN         NaN   \n",
       "436106  TROPICAL FRUIT  13.69   5.537250      NaN         NaN   \n",
       "436107  TROPICAL FRUIT  13.69   5.537250      NaN         NaN   \n",
       "\n",
       "       household_size_desc  avg_purchases_per_week  basket_price  \n",
       "436103                 NaN                     NaN           NaN  \n",
       "436104                 NaN                     NaN           NaN  \n",
       "436105                 NaN                     NaN           NaN  \n",
       "436106                 NaN                     NaN           NaN  \n",
       "436107                 NaN                     NaN           NaN  "
      ]
     },
     "execution_count": 34,
     "metadata": {},
     "output_type": "execute_result"
    }
   ],
   "source": [
    "item_features_tmp = item_features[['item_id',\n",
    "                                    'manufacturer',\n",
    "                                    'department',\n",
    "                                    'brand',\n",
    "                                    'commodity_desc',\n",
    "                                    'price',\n",
    "                                    'avg_price']]\n",
    "\n",
    "user_features_tmp = user_features[['user_id',\n",
    "                                    'age_desc',\n",
    "                                    'income_desc',\n",
    "                                    'household_size_desc',\n",
    "                                    'avg_purchases_per_week',\n",
    "                                    'basket_price']]\n",
    "\n",
    "targets_lvl_2 = targets_lvl_2.merge(item_features_tmp, on='item_id', how='left')\n",
    "targets_lvl_2 = targets_lvl_2.merge(user_features_tmp, on='user_id', how='left')\n",
    "\n",
    "targets_lvl_2.tail()"
   ]
  },
  {
   "cell_type": "code",
   "execution_count": 35,
   "metadata": {},
   "outputs": [
    {
     "data": {
      "text/plain": [
       "0.044200060535463694"
      ]
     },
     "execution_count": 35,
     "metadata": {},
     "output_type": "execute_result"
    }
   ],
   "source": [
    "targets_lvl_2['target'].mean()"
   ]
  },
  {
   "cell_type": "markdown",
   "metadata": {},
   "source": [
    "Разобъем targets_lvl_2 на тренировочные данные по фичам и по таргету"
   ]
  },
  {
   "cell_type": "code",
   "execution_count": 36,
   "metadata": {},
   "outputs": [],
   "source": [
    "X_train = targets_lvl_2.drop('target', axis=1)\n",
    "y_train = targets_lvl_2['target']"
   ]
  },
  {
   "cell_type": "code",
   "execution_count": 37,
   "metadata": {},
   "outputs": [
    {
     "data": {
      "text/plain": [
       "Index(['user_id', 'item_id', 'manufacturer', 'department', 'brand',\n",
       "       'commodity_desc', 'price', 'avg_price', 'age_desc', 'income_desc',\n",
       "       'household_size_desc', 'avg_purchases_per_week', 'basket_price'],\n",
       "      dtype='object')"
      ]
     },
     "execution_count": 37,
     "metadata": {},
     "output_type": "execute_result"
    }
   ],
   "source": [
    "X_train.columns"
   ]
  },
  {
   "cell_type": "code",
   "execution_count": 38,
   "metadata": {},
   "outputs": [],
   "source": [
    "cat_columns = ['manufacturer',\n",
    "               'department',\n",
    "               'brand',\n",
    "               'commodity_desc',\n",
    "               'age_desc',\n",
    "               'income_desc',\n",
    "               'household_size_desc']\n",
    "\n",
    "X_train[cat_columns] = X_train[cat_columns].astype('category')"
   ]
  },
  {
   "cell_type": "markdown",
   "metadata": {},
   "source": [
    "Создадим LGB-модель (LGBMClassifier()) и выполним ее тренировку"
   ]
  },
  {
   "cell_type": "code",
   "execution_count": 39,
   "metadata": {},
   "outputs": [
    {
     "name": "stderr",
     "output_type": "stream",
     "text": [
      "C:\\Users\\User\\Anaconda3\\lib\\site-packages\\lightgbm\\basic.py:1077: UserWarning: categorical_feature keyword has been found in `params` and will be ignored.\n",
      "Please use categorical_feature argument of the Dataset constructor to pass this parameter.\n",
      "  .format(key))\n",
      "C:\\Users\\User\\Anaconda3\\lib\\site-packages\\lightgbm\\basic.py:1098: UserWarning: categorical_feature in param dict is overridden.\n",
      "  warnings.warn('{} in param dict is overridden.'.format(cat_alias))\n"
     ]
    }
   ],
   "source": [
    "model_lgb = LGBMClassifier(objective='binary', max_depth=3, n_estimators=300, learning_rate=0.01, n_jobs=4, num_leaves=32, \\\n",
    "                           categorical_feature=cat_columns)\n",
    "model_lgb.fit(X_train, y_train.values)\n",
    "\n",
    "train_preds = model_lgb.predict_proba(X_train)[:, 1]"
   ]
  },
  {
   "cell_type": "markdown",
   "metadata": {},
   "source": [
    "Посмотрим важность признаков"
   ]
  },
  {
   "cell_type": "code",
   "execution_count": 40,
   "metadata": {},
   "outputs": [
    {
     "data": {
      "text/plain": [
       "array([ 19,  41, 803,   0,   2, 589, 157,  52,   0,   5,   0, 349,  70])"
      ]
     },
     "execution_count": 40,
     "metadata": {},
     "output_type": "execute_result"
    }
   ],
   "source": [
    "model_lgb.feature_importances_"
   ]
  },
  {
   "cell_type": "markdown",
   "metadata": {},
   "source": [
    "Отобразим диаграмму важности признаков"
   ]
  },
  {
   "cell_type": "code",
   "execution_count": 41,
   "metadata": {},
   "outputs": [],
   "source": [
    "from lightgbm import plot_importance"
   ]
  },
  {
   "cell_type": "code",
   "execution_count": 42,
   "metadata": {},
   "outputs": [
    {
     "data": {
      "text/plain": [
       "<AxesSubplot:title={'center':'Feature importance'}, xlabel='Feature importance', ylabel='Features'>"
      ]
     },
     "execution_count": 42,
     "metadata": {},
     "output_type": "execute_result"
    },
    {
     "data": {
      "image/png": "[encoded data removed]",
      "text/plain": [
       "<Figure size 1152x576 with 1 Axes>"
      ]
     },
     "metadata": {
      "needs_background": "light"
     },
     "output_type": "display_data"
    }
   ],
   "source": [
    "plot_importance(model_lgb, figsize=(16, 8), importance_type='gain')"
   ]
  },
  {
   "cell_type": "markdown",
   "metadata": {},
   "source": [
    "Посмотрим список рекомендованных для каждого юзера"
   ]
  },
  {
   "cell_type": "code",
   "execution_count": 43,
   "metadata": {},
   "outputs": [
    {
     "data": {
      "text/html": [
       "<div>\n",
       "<style scoped>\n",
       "    .dataframe tbody tr th:only-of-type {\n",
       "        vertical-align: middle;\n",
       "    }\n",
       "\n",
       "    .dataframe tbody tr th {\n",
       "        vertical-align: top;\n",
       "    }\n",
       "\n",
       "    .dataframe thead th {\n",
       "        text-align: right;\n",
       "    }\n",
       "</style>\n",
       "<table border=\"1\" class=\"dataframe\">\n",
       "  <thead>\n",
       "    <tr style=\"text-align: right;\">\n",
       "      <th></th>\n",
       "      <th>user_id</th>\n",
       "      <th>item_id</th>\n",
       "    </tr>\n",
       "  </thead>\n",
       "  <tbody>\n",
       "    <tr>\n",
       "      <th>2146</th>\n",
       "      <td>2496</td>\n",
       "      <td>[1029743, 1106523, 916122]</td>\n",
       "    </tr>\n",
       "    <tr>\n",
       "      <th>2147</th>\n",
       "      <td>2497</td>\n",
       "      <td>[1082185, 1029743, 933835, 916122, 1051516]</td>\n",
       "    </tr>\n",
       "    <tr>\n",
       "      <th>2148</th>\n",
       "      <td>2498</td>\n",
       "      <td>[916122, 844179, 987044, 885290, 908064]</td>\n",
       "    </tr>\n",
       "    <tr>\n",
       "      <th>2149</th>\n",
       "      <td>2499</td>\n",
       "      <td>[1029743, 1106523, 983584, 1044078, 899624]</td>\n",
       "    </tr>\n",
       "    <tr>\n",
       "      <th>2150</th>\n",
       "      <td>2500</td>\n",
       "      <td>[1082185, 1126899, 1070820, 916122]</td>\n",
       "    </tr>\n",
       "  </tbody>\n",
       "</table>\n",
       "</div>"
      ],
      "text/plain": [
       "      user_id                                      item_id\n",
       "2146     2496                   [1029743, 1106523, 916122]\n",
       "2147     2497  [1082185, 1029743, 933835, 916122, 1051516]\n",
       "2148     2498     [916122, 844179, 987044, 885290, 908064]\n",
       "2149     2499  [1029743, 1106523, 983584, 1044078, 899624]\n",
       "2150     2500          [1082185, 1126899, 1070820, 916122]"
      ]
     },
     "execution_count": 43,
     "metadata": {},
     "output_type": "execute_result"
    }
   ],
   "source": [
    "targets_lvl_2['preds'] = train_preds\n",
    "targets_lvl_2.sort_values(['user_id', 'preds'], ascending=[True, False], inplace=True)\n",
    "lgb_recommendations = targets_lvl_2.groupby('user_id').head(5).groupby('user_id')['item_id'].unique().reset_index()\n",
    "lgb_recommendations.tail()"
   ]
  },
  {
   "cell_type": "markdown",
   "metadata": {},
   "source": [
    "Посчитаем точность (precision_at_k) полученной модели"
   ]
  },
  {
   "cell_type": "code",
   "execution_count": 44,
   "metadata": {},
   "outputs": [
    {
     "data": {
      "text/plain": [
       "0.16460400348128706"
      ]
     },
     "execution_count": 44,
     "metadata": {},
     "output_type": "execute_result"
    }
   ],
   "source": [
    "valid_lvl_2 = valid_lvl_2.merge(lgb_recommendations, on='user_id', how='left')\n",
    "valid_lvl_2.rename(columns={'item_id': 'lgb_recommendations'}, inplace=True)\n",
    "valid_lvl_2[valid_lvl_2.als_recommendations.notna()].apply(lambda row: precision_at_k(row['lgb_recommendations'], \\\n",
    "                                                                                      row['actual'], k=5), axis=1).mean()"
   ]
  },
  {
   "cell_type": "markdown",
   "metadata": {},
   "source": [
    "**Вывод:**\n",
    "удалось повысить на валидационных данных precision_at_k с первоначальных 0.095 до 0.17 благодаря добавлению фич и использованию LGB в модели второго уровня"
   ]
  },
  {
   "cell_type": "code",
   "execution_count": null,
   "metadata": {},
   "outputs": [],
   "source": []
  }
 ],
 "metadata": {
  "kernelspec": {
   "display_name": "Python 3",
   "language": "python",
   "name": "python3"
  },
  "language_info": {
   "codemirror_mode": {
    "name": "ipython",
    "version": 3
   },
   "file_extension": ".py",
   "mimetype": "text/x-python",
   "name": "python",
   "nbconvert_exporter": "python",
   "pygments_lexer": "ipython3",
   "version": "3.7.9"
  }
 },
 "nbformat": 4,
 "nbformat_minor": 2
}
